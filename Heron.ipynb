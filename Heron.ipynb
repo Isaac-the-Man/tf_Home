{
 "cells": [
  {
   "cell_type": "code",
   "execution_count": 1,
   "metadata": {},
   "outputs": [],
   "source": [
    "import tensorflow as tf"
   ]
  },
  {
   "cell_type": "code",
   "execution_count": 2,
   "metadata": {},
   "outputs": [],
   "source": [
    "def compute_heron(sides):\n",
    "    # slice the sides\n",
    "    a = sides[:,0]\n",
    "    b = sides[:,1]\n",
    "    c = sides[:,2]\n",
    "    \n",
    "    s = (a + b + c)/2\n",
    "    \n",
    "    area_sqr = s*(s - a)*(s - b)*(s - c)\n",
    "    \n",
    "    return tf.sqrt(area_sqr)"
   ]
  },
  {
   "cell_type": "code",
   "execution_count": 3,
   "metadata": {},
   "outputs": [],
   "source": [
    "sides = tf.placeholder(dtype=tf.float32, shape=(None, 3))"
   ]
  },
  {
   "cell_type": "code",
   "execution_count": 4,
   "metadata": {},
   "outputs": [
    {
     "name": "stdout",
     "output_type": "stream",
     "text": [
      "[ 6. 30.]\n"
     ]
    }
   ],
   "source": [
    "with tf.Session() as sess:\n",
    "    area = sess.run(compute_heron(sides), feed_dict={\n",
    "        sides : [[3.0,4.0,5.0],[5.0,12,13]]\n",
    "    })\n",
    "    \n",
    "    print(area)"
   ]
  },
  {
   "cell_type": "code",
   "execution_count": null,
   "metadata": {},
   "outputs": [],
   "source": []
  }
 ],
 "metadata": {
  "kernelspec": {
   "display_name": "Python 3",
   "language": "python",
   "name": "python3"
  },
  "language_info": {
   "codemirror_mode": {
    "name": "ipython",
    "version": 3
   },
   "file_extension": ".py",
   "mimetype": "text/x-python",
   "name": "python",
   "nbconvert_exporter": "python",
   "pygments_lexer": "ipython3",
   "version": "3.6.5"
  }
 },
 "nbformat": 4,
 "nbformat_minor": 2
}
