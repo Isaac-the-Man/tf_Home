{
 "cells": [
  {
   "cell_type": "code",
   "execution_count": 1,
   "metadata": {},
   "outputs": [],
   "source": [
    "# This is the data generator for cyllinder volume estimators\n",
    "# radius and height is between 0.2 to 5.0"
   ]
  },
  {
   "cell_type": "code",
   "execution_count": 2,
   "metadata": {},
   "outputs": [],
   "source": [
    "import numpy as np"
   ]
  },
  {
   "cell_type": "code",
   "execution_count": 3,
   "metadata": {},
   "outputs": [],
   "source": [
    "pi = np.pi"
   ]
  },
  {
   "cell_type": "code",
   "execution_count": 4,
   "metadata": {},
   "outputs": [],
   "source": [
    "def generate_data(count):\n",
    "    radius = np.random.randint(2,50,size=count)/10\n",
    "    height = np.random.randint(2,50,size=count)/10\n",
    "    \n",
    "    volume = (radius**2)*height*pi\n",
    "    \n",
    "    return radius, height, volume"
   ]
  },
  {
   "cell_type": "code",
   "execution_count": 16,
   "metadata": {},
   "outputs": [],
   "source": [
    "def write_train_data(filename, count):\n",
    "    data_set = []\n",
    "    radius, height, volume = generate_data(count)\n",
    "    for i in range(count):\n",
    "        data_set.append([radius[i], height[i], volume[i]])\n",
    "    try:\n",
    "        np.savetxt(filename, data_set, fmt='%f',delimiter=',')\n",
    "    except IOError as e:\n",
    "        print(e)\n",
    "    print('Writing Done')"
   ]
  },
  {
   "cell_type": "code",
   "execution_count": 17,
   "metadata": {},
   "outputs": [],
   "source": [
    "# generate data start"
   ]
  },
  {
   "cell_type": "code",
   "execution_count": 18,
   "metadata": {},
   "outputs": [
    {
     "name": "stdout",
     "output_type": "stream",
     "text": [
      "Writing Done\n"
     ]
    }
   ],
   "source": [
    "write_train_data('./data/cylinder_train01.csv',60000)"
   ]
  },
  {
   "cell_type": "code",
   "execution_count": 19,
   "metadata": {},
   "outputs": [
    {
     "name": "stdout",
     "output_type": "stream",
     "text": [
      "Writing Done\n"
     ]
    }
   ],
   "source": [
    "write_train_data('./data/cylinder_train02.csv',60000)"
   ]
  },
  {
   "cell_type": "code",
   "execution_count": 20,
   "metadata": {},
   "outputs": [
    {
     "name": "stdout",
     "output_type": "stream",
     "text": [
      "Writing Done\n"
     ]
    }
   ],
   "source": [
    "write_train_data('./data/cylinder_valid01.csv',15000)"
   ]
  },
  {
   "cell_type": "code",
   "execution_count": 21,
   "metadata": {},
   "outputs": [
    {
     "name": "stdout",
     "output_type": "stream",
     "text": [
      "Writing Done\n"
     ]
    }
   ],
   "source": [
    "write_train_data('./data/cylinder_valid02.csv',15000)"
   ]
  },
  {
   "cell_type": "code",
   "execution_count": null,
   "metadata": {},
   "outputs": [],
   "source": []
  }
 ],
 "metadata": {
  "kernelspec": {
   "display_name": "Python 3",
   "language": "python",
   "name": "python3"
  },
  "language_info": {
   "codemirror_mode": {
    "name": "ipython",
    "version": 3
   },
   "file_extension": ".py",
   "mimetype": "text/x-python",
   "name": "python",
   "nbconvert_exporter": "python",
   "pygments_lexer": "ipython3",
   "version": "3.6.5"
  }
 },
 "nbformat": 4,
 "nbformat_minor": 2
}
