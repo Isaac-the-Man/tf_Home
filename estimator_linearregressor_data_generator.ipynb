{
 "cells": [
  {
   "cell_type": "code",
   "execution_count": 2,
   "metadata": {},
   "outputs": [],
   "source": [
    "# The cost of the breakfast are shown:\n",
    "#      Sandwich Salad Coke\n",
    "# Cost    60     50    25"
   ]
  },
  {
   "cell_type": "code",
   "execution_count": 3,
   "metadata": {},
   "outputs": [],
   "source": [
    "import numpy as np"
   ]
  },
  {
   "cell_type": "code",
   "execution_count": 4,
   "metadata": {},
   "outputs": [],
   "source": [
    "cost_sandwitch = 60\n",
    "cost_salad = 50\n",
    "cost_coke = 25"
   ]
  },
  {
   "cell_type": "code",
   "execution_count": 5,
   "metadata": {},
   "outputs": [],
   "source": [
    "def generate_train_data(count):\n",
    "    num_sandwitch = np.random.randint(0,100,size=count)\n",
    "    num_salad = np.random.randint(0,100,size=count)\n",
    "    num_coke = np.random.randint(0,100,size=count)\n",
    "    \n",
    "    total_cost = cost_sandwitch*num_sandwitch + cost_salad*num_salad + cost_coke*num_coke\n",
    "    \n",
    "    return num_sandwitch, num_salad, num_coke, total_cost"
   ]
  },
  {
   "cell_type": "code",
   "execution_count": 6,
   "metadata": {},
   "outputs": [],
   "source": [
    "def write_train_data(filename, count):\n",
    "    data_set = []\n",
    "    num_sandwitch, num_salad, num_coke, total_cost = generate_train_data(count)\n",
    "    for i in range(count):\n",
    "        data_set.append([num_sandwitch[i], num_salad[i], num_coke[i], total_cost[i]])\n",
    "    try:\n",
    "        np.savetxt(filename, data_set, fmt='%d',delimiter=',')\n",
    "    except IOError as e:\n",
    "        print(e)\n",
    "    print('Writing Done')"
   ]
  },
  {
   "cell_type": "code",
   "execution_count": 13,
   "metadata": {},
   "outputs": [
    {
     "name": "stdout",
     "output_type": "stream",
     "text": [
      "Writing Done\n"
     ]
    }
   ],
   "source": [
    "write_train_data('./data/breakfast_train01.csv',60000)"
   ]
  },
  {
   "cell_type": "code",
   "execution_count": 14,
   "metadata": {},
   "outputs": [
    {
     "name": "stdout",
     "output_type": "stream",
     "text": [
      "Writing Done\n"
     ]
    }
   ],
   "source": [
    "write_train_data('./data/breakfast_train02.csv',60000)"
   ]
  },
  {
   "cell_type": "code",
   "execution_count": 15,
   "metadata": {},
   "outputs": [
    {
     "name": "stdout",
     "output_type": "stream",
     "text": [
      "Writing Done\n"
     ]
    }
   ],
   "source": [
    "write_train_data('./data/breakfast_valid01.csv', 15000)"
   ]
  },
  {
   "cell_type": "code",
   "execution_count": 16,
   "metadata": {},
   "outputs": [
    {
     "name": "stdout",
     "output_type": "stream",
     "text": [
      "Writing Done\n"
     ]
    }
   ],
   "source": [
    "write_train_data('./data/breakfast_valid02.csv', 15000)"
   ]
  },
  {
   "cell_type": "code",
   "execution_count": 17,
   "metadata": {},
   "outputs": [
    {
     "name": "stdout",
     "output_type": "stream",
     "text": [
      "Writing Done\n"
     ]
    }
   ],
   "source": [
    "write_train_data('./data/breakfast_test01.csv', 15000)"
   ]
  },
  {
   "cell_type": "code",
   "execution_count": 18,
   "metadata": {},
   "outputs": [
    {
     "name": "stdout",
     "output_type": "stream",
     "text": [
      "Writing Done\n"
     ]
    }
   ],
   "source": [
    "write_train_data('./data/breakfast_test02.csv', 15000)"
   ]
  },
  {
   "cell_type": "code",
   "execution_count": null,
   "metadata": {},
   "outputs": [],
   "source": []
  }
 ],
 "metadata": {
  "kernelspec": {
   "display_name": "Python 3",
   "language": "python",
   "name": "python3"
  },
  "language_info": {
   "codemirror_mode": {
    "name": "ipython",
    "version": 3
   },
   "file_extension": ".py",
   "mimetype": "text/x-python",
   "name": "python",
   "nbconvert_exporter": "python",
   "pygments_lexer": "ipython3",
   "version": "3.6.5"
  }
 },
 "nbformat": 4,
 "nbformat_minor": 2
}
